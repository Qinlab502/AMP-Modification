{
 "cells": [
  {
   "cell_type": "code",
   "execution_count": 1,
   "id": "10df24ce-dece-47be-9d35-0cabfb02cd85",
   "metadata": {},
   "outputs": [],
   "source": [
    "from typing import List, Tuple, Optional, Dict, NamedTuple, Union, Callable\n",
    "import itertools\n",
    "import os\n",
    "import string\n",
    "from pathlib import Path\n",
    "\n",
    "import numpy as np\n",
    "import torch\n",
    "from scipy.spatial.distance import squareform, pdist, cdist\n",
    "import matplotlib.pyplot as plt\n",
    "import matplotlib as mpl\n",
    "from Bio import SeqIO\n",
    "import biotite.structure as bs\n",
    "from biotite.structure.io.pdbx import PDBxFile, get_structure\n",
    "from biotite.database import rcsb\n",
    "from tqdm import tqdm\n",
    "import pandas as pd\n",
    "\n",
    "import esm\n",
    "import torch.nn.functional as F"
   ]
  },
  {
   "cell_type": "code",
   "execution_count": 2,
   "id": "883b7fe4-49af-43c3-8977-f275a48351e3",
   "metadata": {},
   "outputs": [],
   "source": [
    "# Run it in cuda or cpu\n",
    "device = torch.device(\"cuda:0\" if torch.cuda.is_available() else \"cpu\")"
   ]
  },
  {
   "cell_type": "markdown",
   "id": "e8ef2232-8a05-4254-8cca-5555f901d8ca",
   "metadata": {},
   "source": [
    "## Get the true lbdb contacts from cif file"
   ]
  },
  {
   "cell_type": "code",
   "execution_count": 3,
   "id": "54ceae83-a93f-4798-9aef-f4faa02b2d18",
   "metadata": {},
   "outputs": [],
   "source": [
    "\"\"\"Adapted from: https://github.com/facebookresearch/esm/blob/main/examples/contact_prediction.ipynb\"\"\"\n",
    "def extend(a, b, c, L, A, D):\n",
    "    \"\"\"\n",
    "    input:  3 coords (a,b,c), (L)ength, (A)ngle, and (D)ihedral\n",
    "    output: 4th coord\n",
    "    \"\"\"\n",
    "\n",
    "    def normalize(x):\n",
    "        return x / np.linalg.norm(x, ord=2, axis=-1, keepdims=True)    #求范数\n",
    "\n",
    "    bc = normalize(b - c)\n",
    "    n = normalize(np.cross(b - a, bc))\n",
    "    m = [bc, np.cross(n, bc), n]\n",
    "    d = [L * np.cos(A), L * np.sin(A) * np.cos(D), -L * np.sin(A) * np.sin(D)]\n",
    "    return c + sum([m * d for m, d in zip(m, d)])\n",
    "\n",
    "\n",
    "def contacts_from_pdb(\n",
    "    structure: bs.AtomArray,\n",
    "    distance_threshold: float = 8.0,\n",
    "    chain: Optional[str] = None,\n",
    ") -> np.ndarray:\n",
    "    mask = ~structure.hetero\n",
    "    if chain is not None:\n",
    "        mask &= structure.chain_id == chain\n",
    "\n",
    "    N = structure.coord[mask & (structure.atom_name == \"N\")]\n",
    "    CA = structure.coord[mask & (structure.atom_name == \"CA\")]\n",
    "    C = structure.coord[mask & (structure.atom_name == \"C\")]\n",
    "\n",
    "    Cbeta = extend(C, N, CA, 1.522, 1.927, -2.143)\n",
    "    dist = squareform(pdist(Cbeta))    #矩阵对称化\n",
    "    \n",
    "    contacts = dist < distance_threshold\n",
    "    contacts = contacts.astype(np.int64)\n",
    "    contacts[np.isnan(dist)] = -1\n",
    "    return contacts"
   ]
  },
  {
   "cell_type": "code",
   "execution_count": 4,
   "id": "d35de7df-70e1-4ea9-b03e-d4ab728fc2c4",
   "metadata": {},
   "outputs": [
    {
     "name": "stderr",
     "output_type": "stream",
     "text": [
      "/nfs/home/9403_huangjiaquan/.conda/envs/AMP/lib/python3.8/site-packages/biotite/structure/io/pdbx/convert.py:311: UserWarning: Attribute 'auth_seq_id' not found within 'atom_site' category. The fallback attribute 'label_seq_id' will be used instead\n",
      "  warnings.warn(\n",
      "/nfs/home/9403_huangjiaquan/.conda/envs/AMP/lib/python3.8/site-packages/biotite/structure/io/pdbx/convert.py:311: UserWarning: Attribute 'auth_comp_id' not found within 'atom_site' category. The fallback attribute 'label_comp_id' will be used instead\n",
      "  warnings.warn(\n",
      "/nfs/home/9403_huangjiaquan/.conda/envs/AMP/lib/python3.8/site-packages/biotite/structure/io/pdbx/convert.py:311: UserWarning: Attribute 'auth_atom_id' not found within 'atom_site' category. The fallback attribute 'label_atom_id' will be used instead\n",
      "  warnings.warn(\n"
     ]
    }
   ],
   "source": [
    "lbd=get_structure(PDBxFile.read('../database/lbdb.cif'))[0]\n",
    "contacts=contacts_from_pdb(lbd)"
   ]
  },
  {
   "cell_type": "markdown",
   "id": "5ad353bf-ddbd-4cd1-aa60-33b5d12e6caa",
   "metadata": {
    "tags": []
   },
   "source": [
    "## Finetune logits"
   ]
  },
  {
   "cell_type": "code",
   "execution_count": 5,
   "id": "b4e3419c-4b47-404f-8de0-623168d45133",
   "metadata": {},
   "outputs": [],
   "source": [
    "from torch.optim import AdamW\n",
    "from transformers import get_scheduler\n",
    "import torch.nn as nn\n",
    "import torch.optim as optim\n",
    "from transformers import EsmTokenizer, EsmForSequenceClassification, EsmModel, EsmConfig,EsmForMaskedLM\n",
    "from sklearn.metrics import accuracy_score\n",
    "import time"
   ]
  },
  {
   "cell_type": "code",
   "execution_count": 6,
   "id": "8f2c0b22-8466-4445-a49f-c13f750ff324",
   "metadata": {},
   "outputs": [],
   "source": [
    "def symmetrize(x):\n",
    "    \"Make layer symmetric in final two dimensions, used for contact prediction.\"\n",
    "    return x + x.transpose(-1, -2)\n",
    "\n",
    "def apc(x):\n",
    "    \"Perform average product correct, used for contact prediction.\"\n",
    "    a1 = x.sum(-1, keepdims=True)\n",
    "    a2 = x.sum(-2, keepdims=True)\n",
    "    a12 = x.sum((-1, -2), keepdims=True)\n",
    "\n",
    "    avg = a1 * a2\n",
    "    avg.div_(a12)  # in-place to reduce memory\n",
    "    normalized = x - avg\n",
    "    return normalized"
   ]
  },
  {
   "cell_type": "code",
   "execution_count": 7,
   "id": "ad7a062a-fc0c-4e68-a62a-df23cdc82d5f",
   "metadata": {},
   "outputs": [],
   "source": [
    "#Adapted from https://github.com/facebookresearch/esm/blob/main/esm/modules.py\n",
    "class AttentionLogisticRegression(nn.Module):\n",
    "    \"\"\"Performs symmetrization, apc, and computes a logistic regression on the output features\"\"\"\n",
    "\n",
    "    def __init__(\n",
    "        self,\n",
    "        in_features:int,\n",
    "        prepend_bos: bool,\n",
    "        append_eos: bool,\n",
    "        bias=True,\n",
    "        eos_idx: Optional[int] = None,\n",
    "    ):\n",
    "        super().__init__()\n",
    "        self.in_features=in_features\n",
    "        self.prepend_bos = prepend_bos\n",
    "        self.append_eos = append_eos\n",
    "        if append_eos and eos_idx is None:\n",
    "            raise ValueError(\"Using an alphabet with eos token, but no eos token was passed in.\")\n",
    "        self.eos_idx = eos_idx\n",
    "        self.regression = nn.Linear(in_features, 1, bias)\n",
    "        self.activation = nn.Sigmoid()\n",
    "    \n",
    "    def forward(self, tokens, attentions):\n",
    "        # remove eos token attentions\n",
    "        if self.append_eos:\n",
    "            eos_mask = tokens.ne(self.eos_idx).to(attentions)\n",
    "            eos_mask = eos_mask.unsqueeze(1) * eos_mask.unsqueeze(2)\n",
    "            attentions = attentions * eos_mask[:, None, None, :, :]\n",
    "            attentions = attentions[..., :-1, :-1]\n",
    "        # remove cls token attentions\n",
    "        if self.prepend_bos:\n",
    "            attentions = attentions[..., 1:, 1:]\n",
    "        batch_size, layers, heads, seqlen, _ = attentions.size()\n",
    "        attentions = attentions.view(batch_size, layers * heads, seqlen, seqlen)\n",
    "        attentions = attentions.to(self.regression.weight.device)  # attentions always float32, may need to convert to float16\n",
    "        attentions= apc(symmetrize(attentions))\n",
    "        attentions = attentions.permute(0, 2, 3, 1)\n",
    "        \n",
    "        return self.activation(self.regression(attentions).squeeze(3))"
   ]
  },
  {
   "cell_type": "code",
   "execution_count": 8,
   "id": "46957418-c127-40c0-906f-d1ce4b6a9282",
   "metadata": {},
   "outputs": [],
   "source": [
    "num_layers=33\n",
    "attention_heads=20\n",
    "mymodel=AttentionLogisticRegression(in_features=num_layers*attention_heads,prepend_bos=True,append_eos=True,eos_idx=2)"
   ]
  },
  {
   "cell_type": "code",
   "execution_count": 10,
   "id": "193354a0-8cdd-4658-b194-00db78e9c21f",
   "metadata": {
    "tags": []
   },
   "outputs": [
    {
     "name": "stderr",
     "output_type": "stream",
     "text": [
      "Some weights of the model checkpoint at ../models/esm2_650M were not used when initializing EsmForSequenceClassification: ['lm_head.decoder.weight', 'lm_head.layer_norm.weight', 'lm_head.dense.bias', 'lm_head.bias', 'lm_head.dense.weight', 'lm_head.layer_norm.bias']\n",
      "- This IS expected if you are initializing EsmForSequenceClassification from the checkpoint of a model trained on another task or with another architecture (e.g. initializing a BertForSequenceClassification model from a BertForPreTraining model).\n",
      "- This IS NOT expected if you are initializing EsmForSequenceClassification from the checkpoint of a model that you expect to be exactly identical (initializing a BertForSequenceClassification model from a BertForSequenceClassification model).\n",
      "Some weights of EsmForSequenceClassification were not initialized from the model checkpoint at ../models/esm2_650M and are newly initialized: ['classifier.dense.bias', 'classifier.out_proj.weight', 'classifier.dense.weight', 'classifier.out_proj.bias']\n",
      "You should probably TRAIN this model on a down-stream task to be able to use it for predictions and inference.\n"
     ]
    },
    {
     "data": {
      "text/plain": [
       "PeftModelForSequenceClassification(\n",
       "  (base_model): LoraModel(\n",
       "    (model): EsmForSequenceClassification(\n",
       "      (esm): EsmModel(\n",
       "        (embeddings): EsmEmbeddings(\n",
       "          (word_embeddings): Embedding(33, 1280, padding_idx=1)\n",
       "          (dropout): Dropout(p=0.0, inplace=False)\n",
       "          (position_embeddings): Embedding(1026, 1280, padding_idx=1)\n",
       "        )\n",
       "        (encoder): EsmEncoder(\n",
       "          (layer): ModuleList(\n",
       "            (0-32): 33 x EsmLayer(\n",
       "              (attention): EsmAttention(\n",
       "                (self): EsmSelfAttention(\n",
       "                  (query): Linear(\n",
       "                    in_features=1280, out_features=1280, bias=True\n",
       "                    (lora_dropout): ModuleDict(\n",
       "                      (default): Dropout(p=0.6, inplace=False)\n",
       "                    )\n",
       "                    (lora_A): ModuleDict(\n",
       "                      (default): Linear(in_features=1280, out_features=48, bias=False)\n",
       "                    )\n",
       "                    (lora_B): ModuleDict(\n",
       "                      (default): Linear(in_features=48, out_features=1280, bias=False)\n",
       "                    )\n",
       "                    (lora_embedding_A): ParameterDict()\n",
       "                    (lora_embedding_B): ParameterDict()\n",
       "                  )\n",
       "                  (key): Linear(\n",
       "                    in_features=1280, out_features=1280, bias=True\n",
       "                    (lora_dropout): ModuleDict(\n",
       "                      (default): Dropout(p=0.6, inplace=False)\n",
       "                    )\n",
       "                    (lora_A): ModuleDict(\n",
       "                      (default): Linear(in_features=1280, out_features=48, bias=False)\n",
       "                    )\n",
       "                    (lora_B): ModuleDict(\n",
       "                      (default): Linear(in_features=48, out_features=1280, bias=False)\n",
       "                    )\n",
       "                    (lora_embedding_A): ParameterDict()\n",
       "                    (lora_embedding_B): ParameterDict()\n",
       "                  )\n",
       "                  (value): Linear(\n",
       "                    in_features=1280, out_features=1280, bias=True\n",
       "                    (lora_dropout): ModuleDict(\n",
       "                      (default): Dropout(p=0.6, inplace=False)\n",
       "                    )\n",
       "                    (lora_A): ModuleDict(\n",
       "                      (default): Linear(in_features=1280, out_features=48, bias=False)\n",
       "                    )\n",
       "                    (lora_B): ModuleDict(\n",
       "                      (default): Linear(in_features=48, out_features=1280, bias=False)\n",
       "                    )\n",
       "                    (lora_embedding_A): ParameterDict()\n",
       "                    (lora_embedding_B): ParameterDict()\n",
       "                  )\n",
       "                  (dropout): Dropout(p=0.0, inplace=False)\n",
       "                  (rotary_embeddings): RotaryEmbedding()\n",
       "                )\n",
       "                (output): EsmSelfOutput(\n",
       "                  (dense): Linear(in_features=1280, out_features=1280, bias=True)\n",
       "                  (dropout): Dropout(p=0.0, inplace=False)\n",
       "                )\n",
       "                (LayerNorm): LayerNorm((1280,), eps=1e-05, elementwise_affine=True)\n",
       "              )\n",
       "              (intermediate): EsmIntermediate(\n",
       "                (dense): Linear(in_features=1280, out_features=5120, bias=True)\n",
       "              )\n",
       "              (output): EsmOutput(\n",
       "                (dense): Linear(in_features=5120, out_features=1280, bias=True)\n",
       "                (dropout): Dropout(p=0.0, inplace=False)\n",
       "              )\n",
       "              (LayerNorm): LayerNorm((1280,), eps=1e-05, elementwise_affine=True)\n",
       "            )\n",
       "          )\n",
       "          (emb_layer_norm_after): LayerNorm((1280,), eps=1e-05, elementwise_affine=True)\n",
       "        )\n",
       "        (contact_head): EsmContactPredictionHead(\n",
       "          (regression): Linear(in_features=660, out_features=1, bias=True)\n",
       "          (activation): Sigmoid()\n",
       "        )\n",
       "      )\n",
       "      (classifier): ModulesToSaveWrapper(\n",
       "        (original_module): EsmClassificationHead(\n",
       "          (dense): Linear(in_features=1280, out_features=1280, bias=True)\n",
       "          (dropout): Dropout(p=0.0, inplace=False)\n",
       "          (out_proj): Linear(in_features=1280, out_features=2, bias=True)\n",
       "        )\n",
       "        (modules_to_save): ModuleDict(\n",
       "          (default): EsmClassificationHead(\n",
       "            (dense): Linear(in_features=1280, out_features=1280, bias=True)\n",
       "            (dropout): Dropout(p=0.0, inplace=False)\n",
       "            (out_proj): Linear(in_features=1280, out_features=2, bias=True)\n",
       "          )\n",
       "        )\n",
       "      )\n",
       "    )\n",
       "  )\n",
       ")"
      ]
     },
     "execution_count": 10,
     "metadata": {},
     "output_type": "execute_result"
    }
   ],
   "source": [
    "from peft import PeftModel, PeftConfig\n",
    "from transformers import EsmTokenizer, EsmForSequenceClassification, EsmModel, EsmConfig\n",
    "config = PeftConfig.from_pretrained('../models/esm2_650M_LORA_SEQ_CLS_0.99')\n",
    "model = EsmForSequenceClassification.from_pretrained('../models/esm2_650M', num_labels=2) \n",
    "model = PeftModel.from_pretrained(model, '../models/esm2_650M_LORA_SEQ_CLS_0.99')\n",
    "model.eval()\n",
    "model.to(device)"
   ]
  },
  {
   "cell_type": "code",
   "execution_count": 11,
   "id": "d26b81af-3dd8-4887-9068-ecc09d85c6b7",
   "metadata": {
    "tags": []
   },
   "outputs": [],
   "source": [
    "model_name = \"../models/esm2_650M\"\n",
    "tokenizer = EsmTokenizer.from_pretrained(model_name)\n",
    "seqs='CTYKVKPKLQRFKLYFLGTVTC'\n",
    "inputs = tokenizer(seqs, return_tensors='pt', padding=\"max_length\", truncation=True, max_length=24).to(device)\n",
    "outputs=model.esm(**inputs,output_attentions=True,output_hidden_states=True)\n",
    "lbd_lora_attention=torch.stack(outputs.attentions,1)"
   ]
  },
  {
   "cell_type": "code",
   "execution_count": 12,
   "id": "a310cf29-7601-4094-b853-559525d287e9",
   "metadata": {
    "tags": []
   },
   "outputs": [],
   "source": [
    "mymodel.to(device)\n",
    "lbd_lora_attention=lbd_lora_attention.detach()\n",
    "contact_y=torch.tensor(contacts,dtype=torch.float32).to(device)\n",
    "\n",
    "# Define loss function and optimizer\n",
    "criterion = nn.BCELoss()\n",
    "optimizer = optim.Adam(mymodel.parameters(), lr=5e-3)\n",
    "\n",
    "# Training loop\n",
    "num_epochs = 6000  # Adjust the number of epochs as needed\n",
    "\n",
    "lr_scheduler = get_scheduler(\n",
    "    \"linear\", \n",
    "    optimizer=optimizer, \n",
    "    num_warmup_steps=0, \n",
    "    num_training_steps=num_epochs\n",
    ")"
   ]
  },
  {
   "cell_type": "code",
   "execution_count": 13,
   "id": "ccba808e-de11-4c12-9448-09ade1dd9d88",
   "metadata": {
    "tags": []
   },
   "outputs": [
    {
     "name": "stderr",
     "output_type": "stream",
     "text": [
      "100%|██████████| 6000/6000 [00:06<00:00, 993.47it/s] \n"
     ]
    }
   ],
   "source": [
    "loss_list=[]\n",
    "accurate_list=[]\n",
    "for epoch in tqdm(range(num_epochs)):\n",
    "    mymodel.train()\n",
    "    outputs=mymodel(inputs['input_ids'], lbd_lora_attention)\n",
    "    \n",
    "    total_loss = 0.0\n",
    "    accurate=0\n",
    "    \n",
    "    for index,one_contact_head in enumerate(outputs):\n",
    "        loss = criterion(one_contact_head, contact_y)\n",
    "        total_loss += loss.item()\n",
    "        accurate+=(torch.where(one_contact_head < 0.9, torch.tensor(0), torch.tensor(1))==contact_y).sum()/(one_contact_head.shape[0]*one_contact_head.shape[0])\n",
    "        \n",
    "        loss.backward()# calulate loss\n",
    "        optimizer.step()# update gradient\n",
    "        lr_scheduler.step()# update learn rate\n",
    "        optimizer.zero_grad()# reset gradient\n",
    "        \n",
    "        train_accuracy = accurate / len(outputs)\n",
    "        average_loss = total_loss / len(outputs)\n",
    "        \n",
    "    loss_list.append(average_loss)\n",
    "    accurate_list.append(train_accuracy)"
   ]
  },
  {
   "cell_type": "code",
   "execution_count": 14,
   "id": "2b5f6289-a906-49ec-8fcd-909af9645776",
   "metadata": {},
   "outputs": [
    {
     "data": {
      "text/plain": [
       "[<matplotlib.lines.Line2D at 0x7fbeb22ee460>]"
      ]
     },
     "execution_count": 14,
     "metadata": {},
     "output_type": "execute_result"
    },
    {
     "data": {
      "image/png": "[encoded data removed]",
      "text/plain": [
       "<Figure size 432x288 with 1 Axes>"
      ]
     },
     "metadata": {
      "needs_background": "light"
     },
     "output_type": "display_data"
    }
   ],
   "source": [
    "plt.plot(torch.tensor(accurate_list))\n",
    "plt.plot(torch.tensor(loss_list))"
   ]
  },
  {
   "cell_type": "code",
   "execution_count": null,
   "id": "c35c927d-8d75-4ae7-aa79-c5c03e06c2c8",
   "metadata": {},
   "outputs": [],
   "source": [
    "#  # Save the model\n",
    "# torch.save(mymodel, './models/contact-based model.pt')"
   ]
  },
  {
   "cell_type": "markdown",
   "id": "a974057b-ee05-4fd0-93cc-6732b74bcd8b",
   "metadata": {},
   "source": [
    "## Model Evaluation  \n",
    "<font size=3>we follow the guidelence of the script shown on the github: https://github.com/facebookresearch/esm/blob/main/examples/contact_prediction.ipynb to get the plots and precision"
   ]
  },
  {
   "cell_type": "code",
   "execution_count": 15,
   "id": "203cbda3-f80e-45c5-8032-bc9371266aeb",
   "metadata": {},
   "outputs": [],
   "source": [
    "def compute_precisions(\n",
    "    predictions: torch.Tensor,\n",
    "    targets: torch.Tensor,\n",
    "    src_lengths: Optional[torch.Tensor] = None,\n",
    "    minsep: int = 6,\n",
    "    maxsep: Optional[int] = None,\n",
    "    override_length: Optional[int] = None,  # for casp\n",
    "):\n",
    "    if isinstance(predictions, np.ndarray):\n",
    "        predictions = torch.from_numpy(predictions)\n",
    "    if isinstance(targets, np.ndarray):\n",
    "        targets = torch.from_numpy(targets)\n",
    "    if predictions.dim() == 2:\n",
    "        predictions = predictions.unsqueeze(0)\n",
    "    if targets.dim() == 2:\n",
    "        targets = targets.unsqueeze(0)\n",
    "    override_length = (targets[0, 0] >= 0).sum()\n",
    "\n",
    "    # Check sizes\n",
    "    if predictions.size() != targets.size():\n",
    "        raise ValueError(\n",
    "            f\"Size mismatch. Received predictions of size {predictions.size()}, \"\n",
    "            f\"targets of size {targets.size()}\"\n",
    "        )\n",
    "    device = predictions.device\n",
    "\n",
    "    batch_size, seqlen, _ = predictions.size()\n",
    "    seqlen_range = torch.arange(seqlen, device=device)\n",
    "\n",
    "    sep = seqlen_range.unsqueeze(0) - seqlen_range.unsqueeze(1)\n",
    "    sep = sep.unsqueeze(0)\n",
    "    valid_mask = sep >= minsep\n",
    "    valid_mask = valid_mask & (targets >= 0)  # negative targets are invalid\n",
    "\n",
    "    if maxsep is not None:\n",
    "        valid_mask &= sep < maxsep\n",
    "\n",
    "    if src_lengths is not None:\n",
    "        valid = seqlen_range.unsqueeze(0) < src_lengths.unsqueeze(1)\n",
    "        valid_mask &= valid.unsqueeze(1) & valid.unsqueeze(2)\n",
    "    else:\n",
    "        src_lengths = torch.full([batch_size], seqlen, device=device, dtype=torch.long)\n",
    "\n",
    "    predictions = predictions.masked_fill(~valid_mask, float(\"-inf\"))\n",
    "\n",
    "    x_ind, y_ind = np.triu_indices(seqlen, minsep)\n",
    "    predictions_upper = predictions[:, x_ind, y_ind]\n",
    "    targets_upper = targets[:, x_ind, y_ind]\n",
    "\n",
    "    topk = seqlen if override_length is None else max(seqlen, override_length)\n",
    "    indices = predictions_upper.argsort(dim=-1, descending=True)[:, :topk]\n",
    "    topk_targets = targets_upper[torch.arange(batch_size).unsqueeze(1), indices]\n",
    "    if topk_targets.size(1) < topk:\n",
    "        topk_targets = F.pad(topk_targets, [0, topk - topk_targets.size(1)])\n",
    "\n",
    "    cumulative_dist = topk_targets.type_as(predictions).cumsum(-1)\n",
    "\n",
    "    gather_lengths = src_lengths.unsqueeze(1)\n",
    "    if override_length is not None:\n",
    "        gather_lengths = override_length * torch.ones_like(\n",
    "            gather_lengths, device=device\n",
    "        )\n",
    "\n",
    "    gather_indices = (\n",
    "        torch.arange(0.1, 1.1, 0.1, device=device).unsqueeze(0) * gather_lengths\n",
    "    ).type(torch.long) - 1\n",
    "\n",
    "    binned_cumulative_dist = cumulative_dist.gather(1, gather_indices)\n",
    "    binned_precisions = binned_cumulative_dist / (gather_indices + 1).type_as(\n",
    "        binned_cumulative_dist\n",
    "    )\n",
    "\n",
    "    pl5 = binned_precisions[:, 1]\n",
    "    pl2 = binned_precisions[:, 4]\n",
    "    pl = binned_precisions[:, 9]\n",
    "    auc = binned_precisions.mean(-1)\n",
    "\n",
    "    return {\"AUC\": auc, \"P@L\": pl, \"P@L2\": pl2, \"P@L5\": pl5}\n",
    "\n",
    "\n",
    "def evaluate_prediction(\n",
    "    predictions: torch.Tensor,\n",
    "    targets: torch.Tensor,\n",
    ") -> Dict[str, float]:\n",
    "    if isinstance(targets, np.ndarray):\n",
    "        targets = torch.from_numpy(targets)\n",
    "    contact_ranges = [\n",
    "        (\"local\", 3, 6),\n",
    "        (\"short\", 6, 12),\n",
    "        (\"medium\", 12, 24),\n",
    "#         (\"long\", 24, None),\n",
    "    ]\n",
    "    metrics = {}\n",
    "    targets = targets.to(predictions.device)\n",
    "    for name, minsep, maxsep in contact_ranges:\n",
    "        rangemetrics = compute_precisions(\n",
    "            predictions,\n",
    "            targets,\n",
    "            minsep=minsep,\n",
    "            maxsep=maxsep,\n",
    "        )\n",
    "        for key, val in rangemetrics.items():\n",
    "            metrics[f\"{name}_{key}\"] = val.item()\n",
    "    return metrics"
   ]
  },
  {
   "cell_type": "code",
   "execution_count": 16,
   "id": "052c1fc8-76cf-4752-9bb2-85ab9fda0409",
   "metadata": {},
   "outputs": [],
   "source": [
    "\"\"\"Adapted from: https://github.com/rmrao/evo/blob/main/evo/visualize.py\"\"\"\n",
    "def plot_contacts_and_predictions(\n",
    "    predictions: Union[torch.Tensor, np.ndarray],\n",
    "    contacts: Union[torch.Tensor, np.ndarray],\n",
    "    ax: Optional[mpl.axes.Axes] = None,\n",
    "    # artists: Optional[ContactAndPredictionArtists] = None,\n",
    "    cmap: str = \"Blues\",\n",
    "    ms: float = 1,\n",
    "    title: Union[bool, str, Callable[[float], str]] = True,\n",
    "    animated: bool = False,\n",
    ") -> None:\n",
    "\n",
    "    if isinstance(predictions, torch.Tensor):\n",
    "        predictions = predictions.detach().cpu().numpy()\n",
    "    if isinstance(contacts, torch.Tensor):\n",
    "        contacts = contacts.detach().cpu().numpy()\n",
    "    if ax is None:\n",
    "        ax = plt.gca()\n",
    "\n",
    "    seqlen = contacts.shape[0]\n",
    "    relative_distance = np.add.outer(-np.arange(seqlen), np.arange(seqlen))\n",
    "    bottom_mask = relative_distance < 0  #形成一个三角\n",
    "    masked_image = np.ma.masked_where(bottom_mask, predictions)\n",
    "    invalid_mask = np.abs(np.add.outer(np.arange(seqlen), -np.arange(seqlen))) < 6\n",
    "    predictions = predictions.copy()\n",
    "    predictions[invalid_mask] = float(\"-inf\")\n",
    "\n",
    "    topl_val = np.sort(predictions.reshape(-1))[-seqlen]\n",
    "    pred_contacts = predictions >= topl_val\n",
    "    true_positives = contacts & pred_contacts & ~bottom_mask\n",
    "    false_positives = ~contacts & pred_contacts & ~bottom_mask\n",
    "    other_contacts = contacts & ~pred_contacts & ~bottom_mask\n",
    "\n",
    "    if isinstance(title, str):\n",
    "        title_text: Optional[str] = title\n",
    "    elif title:\n",
    "        long_range_pl = compute_precisions(predictions, contacts, minsep=24)[\n",
    "            \"P@L\"\n",
    "        ].item()\n",
    "        if callable(title):\n",
    "            title_text = title(long_range_pl)\n",
    "        else:\n",
    "            title_text = f\"Long Range P@L: {100 * long_range_pl:0.1f}\"\n",
    "    else:\n",
    "        title_text = None\n",
    "\n",
    "    img = ax.imshow(masked_image, cmap=cmap, animated=animated)\n",
    "    oc = ax.plot(*np.where(other_contacts), \"o\", c=\"grey\", ms=ms)[0]\n",
    "    fn = ax.plot(*np.where(false_positives), \"o\", c=\"r\", ms=ms)[0]\n",
    "    tp = ax.plot(*np.where(true_positives), \"o\", c=\"b\", ms=ms)[0]\n",
    "    ti = ax.set_title(title_text) if title_text is not None else None\n",
    "    # artists = ContactAndPredictionArtists(img, oc, fn, tp, ti)\n",
    "\n",
    "    ax.axis(\"square\")\n",
    "    ax.set_xlim([-0.5, seqlen-0.5])\n",
    "    ax.set_ylim([-0.5, seqlen-0.5])\n",
    "    ax.set_xticks(np.arange(1,seqlen,2))\n",
    "    ax.set_yticks(np.arange(1,seqlen,2))\n",
    "    plt.colorbar(img, fraction=0.045)"
   ]
  },
  {
   "cell_type": "code",
   "execution_count": 17,
   "id": "073739a5-7621-432b-8e10-52e42586ccb2",
   "metadata": {},
   "outputs": [
    {
     "data": {
      "text/plain": [
       "AttentionLogisticRegression(\n",
       "  (regression): Linear(in_features=660, out_features=1, bias=True)\n",
       "  (activation): Sigmoid()\n",
       ")"
      ]
     },
     "execution_count": 17,
     "metadata": {},
     "output_type": "execute_result"
    }
   ],
   "source": [
    "mymodel=torch.load('../models/contact-based model.pt')\n",
    "mymodel.eval()"
   ]
  },
  {
   "cell_type": "code",
   "execution_count": 18,
   "id": "52c8c5a5-952f-4558-b012-70205f9fbb1d",
   "metadata": {},
   "outputs": [
    {
     "data": {
      "image/png": "[encoded data removed]",
      "text/plain": [
       "<Figure size 432x432 with 2 Axes>"
      ]
     },
     "metadata": {
      "needs_background": "light"
     },
     "output_type": "display_data"
    }
   ],
   "source": [
    "#contact predicts from lora_esm2\n",
    "lbd_lora_out=model.esm.contact_head(inputs['input_ids'],lbd_lora_attention)\n",
    "fig, axes = plt.subplots(figsize=(6, 6))\n",
    "plot_contacts_and_predictions(\n",
    "        lbd_lora_out[0], contacts, ax=axes, title = 'LBDB_prediction'\n",
    "    )\n",
    "# plt.savefig('./outputs/lbdb_contact_map_initial.png',dpi=800)\n",
    "plt.show()"
   ]
  },
  {
   "cell_type": "code",
   "execution_count": 19,
   "id": "0f18b7fa-3016-4845-91cc-e38b37f48670",
   "metadata": {},
   "outputs": [
    {
     "data": {
      "text/plain": [
       "{'id': 'lbdb',\n",
       " 'model': 'ESM-2 (Unsupervised)',\n",
       " 'local_AUC': 0.37979942560195923,\n",
       " 'local_P@L': 0.3636363744735718,\n",
       " 'local_P@L2': 0.3636363744735718,\n",
       " 'local_P@L5': 0.5,\n",
       " 'short_AUC': 0.2595936954021454,\n",
       " 'short_P@L': 0.22727273404598236,\n",
       " 'short_P@L2': 0.1818181872367859,\n",
       " 'short_P@L5': 0.25,\n",
       " 'medium_AUC': 0.004545454867184162,\n",
       " 'medium_P@L': 0.04545454680919647,\n",
       " 'medium_P@L2': 0.0,\n",
       " 'medium_P@L5': 0.0}"
      ]
     },
     "execution_count": 19,
     "metadata": {},
     "output_type": "execute_result"
    }
   ],
   "source": [
    "metrics = {\"id\": 'lbdb', \"model\": \"ESM-2 (Unsupervised)\"}\n",
    "metrics.update(evaluate_prediction(lbd_lora_out, contacts))\n",
    "metrics"
   ]
  },
  {
   "cell_type": "code",
   "execution_count": 20,
   "id": "486ea8e2-d4a9-4ad3-a508-70afbb53635c",
   "metadata": {},
   "outputs": [
    {
     "data": {
      "image/png": "[encoded data removed]",
      "text/plain": [
       "<Figure size 432x432 with 2 Axes>"
      ]
     },
     "metadata": {
      "needs_background": "light"
     },
     "output_type": "display_data"
    }
   ],
   "source": [
    "#contact predicts from contact-based model\n",
    "new_predictions=mymodel(inputs['input_ids'], lbd_lora_attention)[0].cpu()\n",
    "fig, axes = plt.subplots(figsize=(6, 6))\n",
    "plot_contacts_and_predictions(\n",
    "        new_predictions, contacts, ax=axes, title = 'LBDB_prediction'\n",
    "    )\n",
    "# plt.savefig('./output/lbdb_contact_map_finetune.png',dpi=800)\n",
    "plt.show()"
   ]
  },
  {
   "cell_type": "code",
   "execution_count": 21,
   "id": "ce8a00a1-b9a4-4acf-9f07-d43d05ed6d02",
   "metadata": {},
   "outputs": [
    {
     "data": {
      "text/plain": [
       "{'id': 'lbdb',\n",
       " 'model': 'ESM-2 (Unsupervised)',\n",
       " 'local_AUC': 0.9510554075241089,\n",
       " 'local_P@L': 0.7272727489471436,\n",
       " 'local_P@L2': 1.0,\n",
       " 'local_P@L5': 1.0,\n",
       " 'short_AUC': 0.8305492401123047,\n",
       " 'short_P@L': 0.5,\n",
       " 'short_P@L2': 1.0,\n",
       " 'short_P@L5': 1.0,\n",
       " 'medium_AUC': 0.2866150736808777,\n",
       " 'medium_P@L': 0.09090909361839294,\n",
       " 'medium_P@L2': 0.1818181872367859,\n",
       " 'medium_P@L5': 0.5}"
      ]
     },
     "execution_count": 21,
     "metadata": {},
     "output_type": "execute_result"
    }
   ],
   "source": [
    "metrics = {\"id\": 'lbdb', \"model\": \"ESM-2 (Unsupervised)\"}\n",
    "metrics.update(evaluate_prediction(new_predictions, contacts))\n",
    "metrics"
   ]
  },
  {
   "cell_type": "code",
   "execution_count": null,
   "id": "9bd2fe14-0dbb-458a-aecf-fd3c70bc3f22",
   "metadata": {},
   "outputs": [],
   "source": []
  }
 ],
 "metadata": {
  "kernelspec": {
   "display_name": "AMP (ipykernel)",
   "language": "python",
   "name": "python3"
  },
  "language_info": {
   "codemirror_mode": {
    "name": "ipython",
    "version": 3
   },
   "file_extension": ".py",
   "mimetype": "text/x-python",
   "name": "python",
   "nbconvert_exporter": "python",
   "pygments_lexer": "ipython3",
   "version": "3.8.10"
  }
 },
 "nbformat": 4,
 "nbformat_minor": 5
}

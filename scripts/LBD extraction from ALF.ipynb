{
 "cells": [
  {
   "cell_type": "code",
   "execution_count": null,
   "id": "39d5e1af-5581-476e-95a2-fcd4c8d2e244",
   "metadata": {},
   "outputs": [],
   "source": [
    "ALF={}\n",
    "with open('./database/ALF.fasta','r') as f:\n",
    "    for line in f.readlines():\n",
    "        line=line.strip()\n",
    "        if line.startswith('>'):\n",
    "            name=line.split()[0][1:]\n",
    "            ALF[name]=''\n",
    "        else:\n",
    "            ALF[name]+=line.replace('\\n','')"
   ]
  },
  {
   "cell_type": "code",
   "execution_count": null,
   "id": "7056970e-01ae-46d0-9d99-30caae3e76af",
   "metadata": {},
   "outputs": [],
   "source": [
    "def find_residue_distance(sequence, target_residue, distance):\n",
    "    \n",
    "    positions = [i for i, res in enumerate(sequence) if res == target_residue]\n",
    "    \n",
    "    LBD=''\n",
    "    if len(positions) > 1:\n",
    "        for i in range(len(positions) - 1):\n",
    "            if positions[i + 1] - positions[i] == distance + 1:\n",
    "                LBD=sequence[positions[i]:positions[i+1]+1]\n",
    "    \n",
    "    return LBD"
   ]
  },
  {
   "cell_type": "code",
   "execution_count": null,
   "id": "af8324b3-ab39-4d51-be0c-41fba5131e74",
   "metadata": {},
   "outputs": [],
   "source": [
    "f1=open('./outputs/ALF_LBD.fasta','w')\n",
    "for header, sequence in ALF.items():\n",
    "    LBD=find_residue_distance(sequence, 'C', 20)\n",
    "    if LBD != '':\n",
    "        f1.write('>'+header+'\\n'+LBD+'\\n')\n",
    "f1.close()"
   ]
  },
  {
   "cell_type": "code",
   "execution_count": null,
   "id": "ea61616d-6674-4d7f-998c-d67c1f4b180f",
   "metadata": {},
   "outputs": [],
   "source": []
  }
 ],
 "metadata": {
  "kernelspec": {
   "display_name": "AMP (ipykernel)",
   "language": "python",
   "name": "python3"
  },
  "language_info": {
   "codemirror_mode": {
    "name": "ipython",
    "version": 3
   },
   "file_extension": ".py",
   "mimetype": "text/x-python",
   "name": "python",
   "nbconvert_exporter": "python",
   "pygments_lexer": "ipython3",
   "version": "3.8.10"
  }
 },
 "nbformat": 4,
 "nbformat_minor": 5
}
